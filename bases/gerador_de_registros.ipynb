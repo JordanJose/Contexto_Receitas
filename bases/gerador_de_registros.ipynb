{
 "cells": [
  {
   "cell_type": "code",
   "execution_count": 24,
   "metadata": {},
   "outputs": [],
   "source": [
    "import pandas as pd\n",
    "from random import choice"
   ]
  },
  {
   "cell_type": "code",
   "execution_count": 25,
   "metadata": {},
   "outputs": [],
   "source": [
    "Regiao = ['North', 'Northeast', 'Central-West', 'Southeast', 'South']\n",
    "regiao_dict = {regiao: i for i, regiao in enumerate(Regiao)}\n",
    "\n",
    "Estado = [\"AC\", \"AL\", \"AP\", \"AM\", \"BA\", \"CE\", \"DF\", \"ES\", \"GO\", \"MA\", \"MT\", \"MS\", \"MG\", \"PA\", \"PB\", \"PR\", \"PE\", \"PI\", \"RJ\", \"RN\", \"RS\", \"RO\", \"RR\", \"SC\", \"SP\", \"SE\", \"TO\"]\n",
    "estado_dict = {estado: i for i, estado in enumerate(Estado)}\n",
    "\n",
    "Temperatura = ['cold', 'room', 'warm']\n",
    "temperatura_dict = {temp: i for i, temp in enumerate(Temperatura)}\n",
    "\n",
    "Tempo = [\"Drizzle\", \"Thunderstorm\", \"Rain\", \"Snow\", \"Clear\", \"Clouds\", \"Others\"]\n",
    "tempo_dict = {tempo: i for i, tempo in enumerate(Tempo)}\n",
    "\n",
    "Estacao = ['Spring', 'Summer', 'Fall', 'Winter']\n",
    "estacao_dict = {estacao: i for i, estacao in enumerate(Estacao)}\n",
    "\n",
    "Periodo_do_dia = ['Morning', 'Afternoon', 'Evening', 'Midnight']\n",
    "periodo_dict = {periodo: i for i, periodo in enumerate(Periodo_do_dia)}\n",
    "\n",
    "Dia_da_semana = ['Monday', 'Tuesday', 'Wednesday', 'Thursday', 'Friday', 'Saturday', 'Sunday']\n",
    "dia_dict = {dia: i for i, dia in enumerate(Dia_da_semana)}\n",
    "\n",
    "Pesquisas = ['cake', 'fish', 'chicken', 'potato', 'tomato', 'meat', 'cheese', 'soup', 'veg', 'hot', 'choco', 'pork', 'salad']\n",
    "pesquisas_dict = {pesquisa: i for i, pesquisa in enumerate(Pesquisas)}"
   ]
  },
  {
   "cell_type": "code",
   "execution_count": 26,
   "metadata": {},
   "outputs": [],
   "source": [
    "def consulta_regiao(estado):\n",
    "\n",
    "    if estado in [\"AC\", \"AM\", \"AP\", \"PA\", \"RO\", \"RR\", \"TO\"]:\n",
    "        regiao = \"North\"\n",
    "    elif estado in [\"AL\", \"BA\", \"CE\", \"MA\", \"PB\", \"PE\", \"PI\", \"RN\", \"SE\"]:\n",
    "        regiao = \"Northeast\"\n",
    "    elif estado in [\"DF\", \"GO\", \"MT\", \"MS\"]:\n",
    "        regiao = \"Central-West\"\n",
    "    elif estado in [\"ES\", \"MG\", \"RJ\", \"SP\"]:\n",
    "        regiao = \"Southeast\"\n",
    "    elif estado in [\"PR\", \"RS\", \"SC\"]:\n",
    "        regiao = \"South\"\n",
    "\n",
    "    return regiao"
   ]
  },
  {
   "cell_type": "code",
   "execution_count": 27,
   "metadata": {},
   "outputs": [],
   "source": [
    "df_dados = pd.DataFrame(columns=['regiao', 'estado', 'temperatura', 'tempo', 'estacao', 'periodo_dia', 'dia_semana', 'pesquisa'])"
   ]
  },
  {
   "cell_type": "code",
   "execution_count": 28,
   "metadata": {},
   "outputs": [],
   "source": [
    "indexi = 0\n",
    "for i in range(400):\n",
    "    estado = choice(Estado)\n",
    "    regiao = consulta_regiao(estado)\n",
    "    temperatura = choice(Temperatura)\n",
    "    tempo = choice(Tempo)\n",
    "    estacao = choice(Estacao)\n",
    "    periodo_do_dia = choice(Periodo_do_dia)\n",
    "    dia_da_semana = choice(Dia_da_semana)\n",
    "    pesquisa = choice(Pesquisas)\n",
    "    dic = {'regiao':regiao, 'estado':estado, 'temperatura':temperatura, 'tempo':tempo, 'estacao':estacao, 'periodo_dia':periodo_do_dia, 'dia_semana':dia_da_semana, 'pesquisa':pesquisa}\n",
    "    df_aux = pd.DataFrame(data=dic, index=[indexi])\n",
    "    df_dados = pd.concat([df_dados, df_aux])\n",
    "    indexi += 1"
   ]
  },
  {
   "cell_type": "code",
   "execution_count": 29,
   "metadata": {},
   "outputs": [],
   "source": [
    "df_dados.to_csv('registros_usuarios.csv', sep=';', index=False)"
   ]
  },
  {
   "cell_type": "code",
   "execution_count": null,
   "metadata": {},
   "outputs": [],
   "source": []
  }
 ],
 "metadata": {
  "kernelspec": {
   "display_name": "Python 3",
   "language": "python",
   "name": "python3"
  },
  "language_info": {
   "codemirror_mode": {
    "name": "ipython",
    "version": 3
   },
   "file_extension": ".py",
   "mimetype": "text/x-python",
   "name": "python",
   "nbconvert_exporter": "python",
   "pygments_lexer": "ipython3",
   "version": "3.8.10"
  },
  "orig_nbformat": 4,
  "vscode": {
   "interpreter": {
    "hash": "274310a7ab95cf964a70bee9190d9de0ea99ef2e781d64b49370a89251f3528d"
   }
  }
 },
 "nbformat": 4,
 "nbformat_minor": 2
}
