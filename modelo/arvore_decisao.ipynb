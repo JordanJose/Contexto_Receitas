{
 "cells": [
  {
   "cell_type": "code",
   "execution_count": 21,
   "metadata": {},
   "outputs": [],
   "source": [
    "import pandas as pd\n",
    "import numpy\n",
    "\n",
    "from sklearn.preprocessing import LabelEncoder\n",
    "from sklearn.tree import DecisionTreeClassifier, export_graphviz\n",
    "from sklearn.model_selection import train_test_split\n",
    "from sklearn.metrics import accuracy_score\n",
    "\n",
    "seed = 10"
   ]
  },
  {
   "cell_type": "code",
   "execution_count": 35,
   "metadata": {},
   "outputs": [],
   "source": [
    "df_registros = pd.read_csv('../bases/registros_usuarios.csv', sep=';')"
   ]
  },
  {
   "cell_type": "code",
   "execution_count": 23,
   "metadata": {},
   "outputs": [],
   "source": [
    "dic_geral = {}\n",
    "for coluna in df_registros.columns:\n",
    "    dic_geral[coluna] = {texto: i for i, texto in enumerate(pd.unique(df_registros[coluna].values))}"
   ]
  },
  {
   "cell_type": "code",
   "execution_count": 24,
   "metadata": {},
   "outputs": [],
   "source": [
    "dic_pesquisa = {i: texto for i, texto in enumerate(pd.unique(df_registros['pesquisa'].values))}"
   ]
  },
  {
   "cell_type": "code",
   "execution_count": 25,
   "metadata": {},
   "outputs": [],
   "source": [
    "for coluna in df_registros.columns:\n",
    "    df_registros[coluna] = df_registros[coluna].replace(dic_geral[coluna])"
   ]
  },
  {
   "cell_type": "code",
   "execution_count": 26,
   "metadata": {},
   "outputs": [],
   "source": [
    "y = df_registros['pesquisa'].values\n",
    "\n",
    "X = df_registros.drop('pesquisa', axis=1).values\n",
    "\n",
    "X_train, X_test, y_train, y_test = train_test_split(X, y, test_size=0.3, stratify=y, random_state=seed)"
   ]
  },
  {
   "cell_type": "code",
   "execution_count": 27,
   "metadata": {},
   "outputs": [
    {
     "data": {
      "text/html": [
       "<style>#sk-container-id-3 {color: black;background-color: white;}#sk-container-id-3 pre{padding: 0;}#sk-container-id-3 div.sk-toggleable {background-color: white;}#sk-container-id-3 label.sk-toggleable__label {cursor: pointer;display: block;width: 100%;margin-bottom: 0;padding: 0.3em;box-sizing: border-box;text-align: center;}#sk-container-id-3 label.sk-toggleable__label-arrow:before {content: \"▸\";float: left;margin-right: 0.25em;color: #696969;}#sk-container-id-3 label.sk-toggleable__label-arrow:hover:before {color: black;}#sk-container-id-3 div.sk-estimator:hover label.sk-toggleable__label-arrow:before {color: black;}#sk-container-id-3 div.sk-toggleable__content {max-height: 0;max-width: 0;overflow: hidden;text-align: left;background-color: #f0f8ff;}#sk-container-id-3 div.sk-toggleable__content pre {margin: 0.2em;color: black;border-radius: 0.25em;background-color: #f0f8ff;}#sk-container-id-3 input.sk-toggleable__control:checked~div.sk-toggleable__content {max-height: 200px;max-width: 100%;overflow: auto;}#sk-container-id-3 input.sk-toggleable__control:checked~label.sk-toggleable__label-arrow:before {content: \"▾\";}#sk-container-id-3 div.sk-estimator input.sk-toggleable__control:checked~label.sk-toggleable__label {background-color: #d4ebff;}#sk-container-id-3 div.sk-label input.sk-toggleable__control:checked~label.sk-toggleable__label {background-color: #d4ebff;}#sk-container-id-3 input.sk-hidden--visually {border: 0;clip: rect(1px 1px 1px 1px);clip: rect(1px, 1px, 1px, 1px);height: 1px;margin: -1px;overflow: hidden;padding: 0;position: absolute;width: 1px;}#sk-container-id-3 div.sk-estimator {font-family: monospace;background-color: #f0f8ff;border: 1px dotted black;border-radius: 0.25em;box-sizing: border-box;margin-bottom: 0.5em;}#sk-container-id-3 div.sk-estimator:hover {background-color: #d4ebff;}#sk-container-id-3 div.sk-parallel-item::after {content: \"\";width: 100%;border-bottom: 1px solid gray;flex-grow: 1;}#sk-container-id-3 div.sk-label:hover label.sk-toggleable__label {background-color: #d4ebff;}#sk-container-id-3 div.sk-serial::before {content: \"\";position: absolute;border-left: 1px solid gray;box-sizing: border-box;top: 0;bottom: 0;left: 50%;z-index: 0;}#sk-container-id-3 div.sk-serial {display: flex;flex-direction: column;align-items: center;background-color: white;padding-right: 0.2em;padding-left: 0.2em;position: relative;}#sk-container-id-3 div.sk-item {position: relative;z-index: 1;}#sk-container-id-3 div.sk-parallel {display: flex;align-items: stretch;justify-content: center;background-color: white;position: relative;}#sk-container-id-3 div.sk-item::before, #sk-container-id-3 div.sk-parallel-item::before {content: \"\";position: absolute;border-left: 1px solid gray;box-sizing: border-box;top: 0;bottom: 0;left: 50%;z-index: -1;}#sk-container-id-3 div.sk-parallel-item {display: flex;flex-direction: column;z-index: 1;position: relative;background-color: white;}#sk-container-id-3 div.sk-parallel-item:first-child::after {align-self: flex-end;width: 50%;}#sk-container-id-3 div.sk-parallel-item:last-child::after {align-self: flex-start;width: 50%;}#sk-container-id-3 div.sk-parallel-item:only-child::after {width: 0;}#sk-container-id-3 div.sk-dashed-wrapped {border: 1px dashed gray;margin: 0 0.4em 0.5em 0.4em;box-sizing: border-box;padding-bottom: 0.4em;background-color: white;}#sk-container-id-3 div.sk-label label {font-family: monospace;font-weight: bold;display: inline-block;line-height: 1.2em;}#sk-container-id-3 div.sk-label-container {text-align: center;}#sk-container-id-3 div.sk-container {/* jupyter's `normalize.less` sets `[hidden] { display: none; }` but bootstrap.min.css set `[hidden] { display: none !important; }` so we also need the `!important` here to be able to override the default hidden behavior on the sphinx rendered scikit-learn.org. See: https://github.com/scikit-learn/scikit-learn/issues/21755 */display: inline-block !important;position: relative;}#sk-container-id-3 div.sk-text-repr-fallback {display: none;}</style><div id=\"sk-container-id-3\" class=\"sk-top-container\"><div class=\"sk-text-repr-fallback\"><pre>DecisionTreeClassifier(min_samples_leaf=5, min_samples_split=5, random_state=10)</pre><b>In a Jupyter environment, please rerun this cell to show the HTML representation or trust the notebook. <br />On GitHub, the HTML representation is unable to render, please try loading this page with nbviewer.org.</b></div><div class=\"sk-container\" hidden><div class=\"sk-item\"><div class=\"sk-estimator sk-toggleable\"><input class=\"sk-toggleable__control sk-hidden--visually\" id=\"sk-estimator-id-3\" type=\"checkbox\" checked><label for=\"sk-estimator-id-3\" class=\"sk-toggleable__label sk-toggleable__label-arrow\">DecisionTreeClassifier</label><div class=\"sk-toggleable__content\"><pre>DecisionTreeClassifier(min_samples_leaf=5, min_samples_split=5, random_state=10)</pre></div></div></div></div></div>"
      ],
      "text/plain": [
       "DecisionTreeClassifier(min_samples_leaf=5, min_samples_split=5, random_state=10)"
      ]
     },
     "execution_count": 27,
     "metadata": {},
     "output_type": "execute_result"
    }
   ],
   "source": [
    "tree = DecisionTreeClassifier(criterion='gini',\n",
    "                                min_samples_leaf=5,\n",
    "                                min_samples_split=5,\n",
    "                                max_depth=None,\n",
    "                                random_state=seed)\n",
    "\n",
    "tree.fit(X_train, y_train)"
   ]
  },
  {
   "cell_type": "code",
   "execution_count": 28,
   "metadata": {},
   "outputs": [
    {
     "name": "stdout",
     "output_type": "stream",
     "text": [
      "DecisionTreeClassifier accuracy score: 0.06766666666666667\n"
     ]
    }
   ],
   "source": [
    "y_pred = tree.predict(X_test)\n",
    "accuracy = accuracy_score(y_test, y_pred)\n",
    "print('DecisionTreeClassifier accuracy score: {}'.format(accuracy))"
   ]
  },
  {
   "cell_type": "code",
   "execution_count": 30,
   "metadata": {},
   "outputs": [],
   "source": [
    "def converte_entrada(lista_registro):\n",
    "    i = 0\n",
    "    lista_convertida = []\n",
    "    for coluna in df_registros.columns:\n",
    "        convertido = dic_geral[coluna][lista_registro[i]]\n",
    "        lista_convertida.append(convertido)\n",
    "        i += 1\n",
    "        if(i+1 == len(df_registros.columns)):\n",
    "           return lista_convertida"
   ]
  },
  {
   "cell_type": "code",
   "execution_count": 31,
   "metadata": {},
   "outputs": [
    {
     "data": {
      "text/plain": [
       "array([5])"
      ]
     },
     "execution_count": 31,
     "metadata": {},
     "output_type": "execute_result"
    }
   ],
   "source": [
    "tree.predict([converte_entrada(['norte','RO','normal','nuvens','outono','noite','quinta'])])"
   ]
  },
  {
   "cell_type": "code",
   "execution_count": 32,
   "metadata": {},
   "outputs": [],
   "source": [
    "def predicao(lista_registro):\n",
    "    lista_convertida = converte_entrada(lista_registro)\n",
    "    resultado = tree.predict([lista_convertida])\n",
    "    return dic_pesquisa[resultado[0]]"
   ]
  },
  {
   "cell_type": "code",
   "execution_count": 33,
   "metadata": {},
   "outputs": [
    {
     "data": {
      "text/plain": [
       "'bolonhesa'"
      ]
     },
     "execution_count": 33,
     "metadata": {},
     "output_type": "execute_result"
    }
   ],
   "source": [
    "predicao(['norte','RO','normal','nuvens','outono','noite','quinta'])"
   ]
  },
  {
   "cell_type": "code",
   "execution_count": 36,
   "metadata": {},
   "outputs": [
    {
     "data": {
      "text/html": [
       "<div>\n",
       "<style scoped>\n",
       "    .dataframe tbody tr th:only-of-type {\n",
       "        vertical-align: middle;\n",
       "    }\n",
       "\n",
       "    .dataframe tbody tr th {\n",
       "        vertical-align: top;\n",
       "    }\n",
       "\n",
       "    .dataframe thead th {\n",
       "        text-align: right;\n",
       "    }\n",
       "</style>\n",
       "<table border=\"1\" class=\"dataframe\">\n",
       "  <thead>\n",
       "    <tr style=\"text-align: right;\">\n",
       "      <th></th>\n",
       "      <th>regiao</th>\n",
       "      <th>estado</th>\n",
       "      <th>temperatura</th>\n",
       "      <th>tempo</th>\n",
       "      <th>estacao</th>\n",
       "      <th>periodo_dia</th>\n",
       "      <th>dia_semana</th>\n",
       "      <th>pesquisa</th>\n",
       "    </tr>\n",
       "  </thead>\n",
       "  <tbody>\n",
       "    <tr>\n",
       "      <th>0</th>\n",
       "      <td>centro-oeste</td>\n",
       "      <td>MS</td>\n",
       "      <td>frio</td>\n",
       "      <td>ceu claro</td>\n",
       "      <td>primavera</td>\n",
       "      <td>noite</td>\n",
       "      <td>sabado</td>\n",
       "      <td>laranja</td>\n",
       "    </tr>\n",
       "    <tr>\n",
       "      <th>1</th>\n",
       "      <td>centro-oeste</td>\n",
       "      <td>MT</td>\n",
       "      <td>frio</td>\n",
       "      <td>outros</td>\n",
       "      <td>verao</td>\n",
       "      <td>noite</td>\n",
       "      <td>quarta</td>\n",
       "      <td>suco</td>\n",
       "    </tr>\n",
       "    <tr>\n",
       "      <th>2</th>\n",
       "      <td>nordeste</td>\n",
       "      <td>MA</td>\n",
       "      <td>quente</td>\n",
       "      <td>chuva</td>\n",
       "      <td>outono</td>\n",
       "      <td>manha</td>\n",
       "      <td>domingo</td>\n",
       "      <td>lasanha</td>\n",
       "    </tr>\n",
       "    <tr>\n",
       "      <th>3</th>\n",
       "      <td>sudeste</td>\n",
       "      <td>ES</td>\n",
       "      <td>frio</td>\n",
       "      <td>nuvens</td>\n",
       "      <td>primavera</td>\n",
       "      <td>noite</td>\n",
       "      <td>quinta</td>\n",
       "      <td>molho</td>\n",
       "    </tr>\n",
       "    <tr>\n",
       "      <th>4</th>\n",
       "      <td>sul</td>\n",
       "      <td>SC</td>\n",
       "      <td>frio</td>\n",
       "      <td>chuva</td>\n",
       "      <td>primavera</td>\n",
       "      <td>noite</td>\n",
       "      <td>sabado</td>\n",
       "      <td>queijo</td>\n",
       "    </tr>\n",
       "    <tr>\n",
       "      <th>...</th>\n",
       "      <td>...</td>\n",
       "      <td>...</td>\n",
       "      <td>...</td>\n",
       "      <td>...</td>\n",
       "      <td>...</td>\n",
       "      <td>...</td>\n",
       "      <td>...</td>\n",
       "      <td>...</td>\n",
       "    </tr>\n",
       "    <tr>\n",
       "      <th>395</th>\n",
       "      <td>sul</td>\n",
       "      <td>RS</td>\n",
       "      <td>quente</td>\n",
       "      <td>nuvens</td>\n",
       "      <td>outono</td>\n",
       "      <td>tarde</td>\n",
       "      <td>sabado</td>\n",
       "      <td>queijo</td>\n",
       "    </tr>\n",
       "    <tr>\n",
       "      <th>396</th>\n",
       "      <td>nordeste</td>\n",
       "      <td>CE</td>\n",
       "      <td>normal</td>\n",
       "      <td>nuvens</td>\n",
       "      <td>inverno</td>\n",
       "      <td>tarde</td>\n",
       "      <td>quarta</td>\n",
       "      <td>bolo</td>\n",
       "    </tr>\n",
       "    <tr>\n",
       "      <th>397</th>\n",
       "      <td>norte</td>\n",
       "      <td>AM</td>\n",
       "      <td>normal</td>\n",
       "      <td>ceu claro</td>\n",
       "      <td>verao</td>\n",
       "      <td>manha</td>\n",
       "      <td>domingo</td>\n",
       "      <td>rocambole</td>\n",
       "    </tr>\n",
       "    <tr>\n",
       "      <th>398</th>\n",
       "      <td>norte</td>\n",
       "      <td>RO</td>\n",
       "      <td>frio</td>\n",
       "      <td>chuva</td>\n",
       "      <td>verao</td>\n",
       "      <td>tarde</td>\n",
       "      <td>quinta</td>\n",
       "      <td>frango</td>\n",
       "    </tr>\n",
       "    <tr>\n",
       "      <th>399</th>\n",
       "      <td>sul</td>\n",
       "      <td>SC</td>\n",
       "      <td>quente</td>\n",
       "      <td>ceu claro</td>\n",
       "      <td>outono</td>\n",
       "      <td>manha</td>\n",
       "      <td>segunda</td>\n",
       "      <td>molho</td>\n",
       "    </tr>\n",
       "  </tbody>\n",
       "</table>\n",
       "<p>400 rows × 8 columns</p>\n",
       "</div>"
      ],
      "text/plain": [
       "           regiao estado temperatura      tempo    estacao periodo_dia  \\\n",
       "0    centro-oeste     MS        frio  ceu claro  primavera       noite   \n",
       "1    centro-oeste     MT        frio     outros      verao       noite   \n",
       "2        nordeste     MA      quente      chuva     outono       manha   \n",
       "3         sudeste     ES        frio     nuvens  primavera       noite   \n",
       "4             sul     SC        frio      chuva  primavera       noite   \n",
       "..            ...    ...         ...        ...        ...         ...   \n",
       "395           sul     RS      quente     nuvens     outono       tarde   \n",
       "396      nordeste     CE      normal     nuvens    inverno       tarde   \n",
       "397         norte     AM      normal  ceu claro      verao       manha   \n",
       "398         norte     RO        frio      chuva      verao       tarde   \n",
       "399           sul     SC      quente  ceu claro     outono       manha   \n",
       "\n",
       "    dia_semana   pesquisa  \n",
       "0       sabado    laranja  \n",
       "1       quarta       suco  \n",
       "2      domingo    lasanha  \n",
       "3       quinta      molho  \n",
       "4       sabado     queijo  \n",
       "..         ...        ...  \n",
       "395     sabado     queijo  \n",
       "396     quarta       bolo  \n",
       "397    domingo  rocambole  \n",
       "398     quinta     frango  \n",
       "399    segunda      molho  \n",
       "\n",
       "[400 rows x 8 columns]"
      ]
     },
     "execution_count": 36,
     "metadata": {},
     "output_type": "execute_result"
    }
   ],
   "source": [
    "df_registros"
   ]
  },
  {
   "cell_type": "code",
   "execution_count": null,
   "metadata": {},
   "outputs": [],
   "source": []
  }
 ],
 "metadata": {
  "kernelspec": {
   "display_name": "Python 3",
   "language": "python",
   "name": "python3"
  },
  "language_info": {
   "codemirror_mode": {
    "name": "ipython",
    "version": 3
   },
   "file_extension": ".py",
   "mimetype": "text/x-python",
   "name": "python",
   "nbconvert_exporter": "python",
   "pygments_lexer": "ipython3",
   "version": "3.8.10"
  },
  "orig_nbformat": 4,
  "vscode": {
   "interpreter": {
    "hash": "274310a7ab95cf964a70bee9190d9de0ea99ef2e781d64b49370a89251f3528d"
   }
  }
 },
 "nbformat": 4,
 "nbformat_minor": 2
}
